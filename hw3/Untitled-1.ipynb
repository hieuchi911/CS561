{
 "cells": [
  {
   "cell_type": "code",
   "execution_count": 25,
   "metadata": {},
   "outputs": [
    {
     "name": "stdout",
     "output_type": "stream",
     "text": [
      "[[1 2 1 1]\n",
      " [1 2 1 2]\n",
      " [1 2 0 0]]\n",
      "[1.25 1.5  0.75]\n",
      "[[0.73105858 0.88079708 0.73105858 0.73105858]\n",
      " [0.73105858 0.88079708 0.73105858 0.88079708]\n",
      " [0.73105858 0.88079708 0.5        0.5       ]]\n"
     ]
    }
   ],
   "source": [
    "m = np.array([[1,2,1,1], [1,2,1,2], [1,2,0,0]])\n",
    "print(m)\n",
    "print(m.mean(axis=1))\n",
    "print(1/(1+ np.exp(-m)))"
   ]
  },
  {
   "cell_type": "code",
   "execution_count": 3,
   "metadata": {},
   "outputs": [],
   "source": [
    "from NeuralNetwork3 import DenseLayer, SigmoidLayer, crossentropy, crossentropy_grad\n",
    "import numpy as np\n",
    "from tqdm import tqdm, trange\n",
    "import matplotlib.pyplot as plt\n",
    "\n",
    "class ANNAgent():\n",
    "    def __init__(self, layers, inp_len, outp_len, lrate) -> None:    #layers [128,128,64]\n",
    "        self.layers = []\n",
    "        self.layers.append(DenseLayer(inp_len, layers[0], lrate))\n",
    "        # print(\"Added layer 1 shape \", self.layers[-1].weights.shape)\n",
    "        self.layers.append(SigmoidLayer())\n",
    "        for i in range(len(layers)-1):\n",
    "            self.layers.append(DenseLayer(layers[i], layers[i+1], lrate))\n",
    "            # print(f\"Added layer {i+1+2} shape \", self.layers[-1].weights.shape)\n",
    "            self.layers.append(SigmoidLayer())\n",
    "        self.layers.append(DenseLayer(layers[-1], outp_len, lrate))\n",
    "        # print(f\"Added layer {i+1+1+1+2} shape \", self.layers[-1].weights.shape)\n",
    "        self.layers.append(SigmoidLayer())\n",
    "    \n",
    "    def train(self, x, y):\n",
    "        # print(y.shape)\n",
    "        # print(x.shape)\n",
    "        layer_outs = []\n",
    "        inp = x\n",
    "        # print(\"\\nFORWARD!!\")\n",
    "        for l in self.layers:\n",
    "            # print(type(l))\n",
    "            inp = l.forward(inp)\n",
    "            layer_outs.append(inp)\n",
    "        layer_inps = [x] + layer_outs\n",
    "        \n",
    "        # print(\"\\n--->len(layer_inps) is\", len(layer_inps))\n",
    "        logit = layer_outs[-1]\n",
    "        \n",
    "        loss = crossentropy(logit, y)\n",
    "        # print(\"loss[0] is\", -loss[0])\n",
    "        # print(\"logit[0] is\", logit[0])\n",
    "        # print(\"y[0] is\", y[0])\n",
    "        # print(\"logit.shape: \", logit.shape)\n",
    "        # print(\"y.shape: \", y.shape)\n",
    "        grads = crossentropy_grad(logit, y)\n",
    "\n",
    "        # print(\"\\n\\nBACKWARD!!\")\n",
    "        # print(\"grads shape: \", grads.shape)\n",
    "        for l in range(len(self.layers))[::-1]:\n",
    "            # print(f\"at layer {l+1}\",type(self.layers[l]))\n",
    "            grads = self.layers[l].backward(layer_inps[l], grads)\n",
    "        \n",
    "        return loss #-np.mean()\n",
    "    \n",
    "    def forward(self, x):\n",
    "        layer_outs = []\n",
    "        inp = x\n",
    "        for l in self.layers:\n",
    "            inp = l.forward(inp)\n",
    "            layer_outs.append(inp)\n",
    "        logit = layer_outs[-1]\n",
    "        ret = logit > 0.5\n",
    "        return ret * 1"
   ]
  },
  {
   "cell_type": "code",
   "execution_count": 3,
   "metadata": {},
   "outputs": [
    {
     "name": "stdout",
     "output_type": "stream",
     "text": [
      "[False  True False  True]\n",
      "[0 1 0 1]\n"
     ]
    }
   ],
   "source": [
    "m = np.array([0,1,0.2,3])\n",
    "a = m > 0.5\n",
    "print(a)\n",
    "b = a * 1\n",
    "print(b)"
   ]
  },
  {
   "cell_type": "code",
   "execution_count": 16,
   "metadata": {},
   "outputs": [],
   "source": [
    "def train(learner, dataset, batch_size=200, epochs=1000):\n",
    "    batches = []\n",
    "    for i in range(int(len(dataset)/batch_size)+1):\n",
    "        batches.append(np.array(dataset[i*batch_size:min((i+1)*batch_size, len(dataset))]))\n",
    "    loss = []\n",
    "    tr_loss = 0\n",
    "    accumulated_loss = 0\n",
    "    # for epoch in enumerate(tqdm(range(epochs), desc=\"Epoch\")):\n",
    "    for epoch in enumerate(range(epochs)):\n",
    "        for step, batch in enumerate(batches):\n",
    "        # for step, batch in enumerate(tqdm(batches)):\n",
    "            tr_loss += learner.train(np.array([b[0] for b in batch]), np.array([[b[1]] for b in batch]))\n",
    "            # break\n",
    "            if step // 10 == 0:\n",
    "                loss.append((tr_loss - accumulated_loss)/10)\n",
    "                accumulated_loss = tr_loss\n",
    "                # print(loss[-1])\n",
    "        # break\n",
    "    plt.plot(loss)\n",
    "    print(loss[-1])"
   ]
  },
  {
   "cell_type": "code",
   "execution_count": 5,
   "metadata": {},
   "outputs": [],
   "source": [
    "def predict(learner, data):\n",
    "    return learner.forward(np.array([d for d in data]))"
   ]
  },
  {
   "cell_type": "code",
   "execution_count": 23,
   "metadata": {},
   "outputs": [
    {
     "name": "stderr",
     "output_type": "stream",
     "text": [
      "c:\\Users\\hieuc\\Documents\\Projects\\USC\\CS561\\hw3\\ann-env\\lib\\site-packages\\ipykernel_launcher.py:4: VisibleDeprecationWarning: Creating an ndarray from ragged nested sequences (which is a list-or-tuple of lists-or-tuples-or ndarrays with different lengths or shapes) is deprecated. If you meant to do this, you must specify 'dtype=object' when creating the ndarray.\n",
      "  after removing the cwd from sys.path.\n"
     ]
    },
    {
     "name": "stdout",
     "output_type": "stream",
     "text": [
      "0.010270163738346128\n",
      "acc:  0.946\n"
     ]
    },
    {
     "data": {
      "image/png": "[encoded data removed]",
      "text/plain": [
       "<Figure size 640x480 with 1 Axes>"
      ]
     },
     "metadata": {},
     "output_type": "display_data"
    }
   ],
   "source": [
    "train_set_corpus = np.loadtxt(\"resource/asnlib/public/circle_train_data.csv\", delimiter=\",\")\n",
    "train_labels_corpus = np.loadtxt(\"resource/asnlib/public/circle_train_label.csv\", delimiter=\",\")\n",
    "\n",
    "test_set_corpus = np.loadtxt(\"resource/asnlib/public/circle_test_data.csv\", delimiter=\",\")\n",
    "# test_set_corpus = np.loadtxt(\"resource/asnlib/public/spiral_train_data.csv\", delimiter=\",\")\n",
    "test_labels_corpus = np.loadtxt(\"resource/asnlib/public/circle_test_label.csv\", delimiter=\",\")\n",
    "\n",
    "train_set_corpus = train_set_corpus.tolist()\n",
    "train_labels_corpus = train_labels_corpus.tolist()\n",
    "\n",
    "train_set = list(zip(train_set_corpus, train_labels_corpus))\n",
    "\n",
    "batch_size = 128\n",
    "layers = [128, 64]\n",
    "\n",
    "learner = ANNAgent(layers, 2, 1, lrate=0.01)\n",
    "\n",
    "train(learner, train_set)\n",
    "preds = predict(learner, test_set_corpus)\n",
    "\n",
    "\n",
    "count = 0\n",
    "for i, el in enumerate(preds):\n",
    "    if el[0] == int(test_labels_corpus[i]):\n",
    "        count += 1\n",
    "    # print(el[0], \" ---- \", int(train_labels_corpus[i]))\n",
    "print(\"acc: \", count/len(preds))"
   ]
  },
  {
   "cell_type": "code",
   "execution_count": 21,
   "metadata": {},
   "outputs": [],
   "source": [
    "test_set_corpus = np.loadtxt(\"resource/asnlib/public/spiral_train_data.csv\", delimiter=\",\")\n",
    "test_labels_corpus = np.loadtxt(\"resource/asnlib/public/spiral_train_label.csv\", delimiter=\",\")\n",
    "preds = predict(learner, test_set_corpus)"
   ]
  },
  {
   "cell_type": "code",
   "execution_count": 22,
   "metadata": {},
   "outputs": [
    {
     "name": "stdout",
     "output_type": "stream",
     "text": [
      "acc:  0.9905047476261869\n"
     ]
    }
   ],
   "source": [
    "count = 0\n",
    "for i, el in enumerate(preds):\n",
    "    if el[0] == int(test_labels_corpus[i]):\n",
    "        count += 1\n",
    "    # print(el[0], \" ---- \", int(train_labels_corpus[i]))\n",
    "print(\"acc: \", count/len(preds))"
   ]
  }
 ],
 "metadata": {
  "kernelspec": {
   "display_name": "Python 3.7.9 ('ann-env': venv)",
   "language": "python",
   "name": "python3"
  },
  "language_info": {
   "codemirror_mode": {
    "name": "ipython",
    "version": 3
   },
   "file_extension": ".py",
   "mimetype": "text/x-python",
   "name": "python",
   "nbconvert_exporter": "python",
   "pygments_lexer": "ipython3",
   "version": "3.7.9"
  },
  "orig_nbformat": 4,
  "vscode": {
   "interpreter": {
    "hash": "72836042da92571a59c40d4cc09a2eedd79b39e4e2c0eb3a3aba17af301414c8"
   }
  }
 },
 "nbformat": 4,
 "nbformat_minor": 2
}
